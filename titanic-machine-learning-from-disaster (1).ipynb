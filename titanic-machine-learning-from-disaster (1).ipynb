{
 "cells": [
  {
   "cell_type": "code",
   "execution_count": 1,
   "id": "15c0c237",
   "metadata": {
    "_cell_guid": "b1076dfc-b9ad-4769-8c92-a6c4dae69d19",
    "_uuid": "8f2839f25d086af736a60e9eeb907d3b93b6e0e5",
    "execution": {
     "iopub.execute_input": "2024-09-12T15:04:49.004385Z",
     "iopub.status.busy": "2024-09-12T15:04:49.003949Z",
     "iopub.status.idle": "2024-09-12T15:05:05.107856Z",
     "shell.execute_reply": "2024-09-12T15:05:05.106368Z"
    },
    "papermill": {
     "duration": 16.116863,
     "end_time": "2024-09-12T15:05:05.111018",
     "exception": false,
     "start_time": "2024-09-12T15:04:48.994155",
     "status": "completed"
    },
    "tags": []
   },
   "outputs": [
    {
     "name": "stdout",
     "output_type": "stream",
     "text": [
      "/kaggle/input/titanic/train.csv\n",
      "/kaggle/input/titanic/test.csv\n",
      "/kaggle/input/titanic/gender_submission.csv\n"
     ]
    }
   ],
   "source": [
    "# This Python 3 environment comes with many helpful analytics libraries installed\n",
    "# It is defined by the kaggle/python Docker image: https://github.com/kaggle/docker-python\n",
    "# For example, here's several helpful packages to load\n",
    "\n",
    "import numpy as np # linear algebra\n",
    "import pandas as pd # data processing, CSV file I/O (e.g. pd.read_csv)\n",
    "\n",
    "# Input data files are available in the read-only \"../input/\" directory\n",
    "# For example, running this (by clicking run or pressing Shift+Enter) will list all files under the input directory\n",
    "\n",
    "import os\n",
    "for dirname, _, filenames in os.walk('/kaggle/input'):\n",
    "    for filename in filenames:\n",
    "        print(os.path.join(dirname, filename))\n",
    "\n",
    "# You can write up to 20GB to the current directory (/kaggle/working/) that gets preserved as output when you create a version using \"Save & Run All\" \n",
    "# You can also write temporary files to /kaggle/temp/, but they won't be saved outside of the current session\n",
    "import matplotlib.pyplot as plt\n",
    "import math\n",
    "import tensorflow as tf\n",
    "import seaborn as sb\n",
    "%matplotlib inline"
   ]
  },
  {
   "cell_type": "code",
   "execution_count": 2,
   "id": "5f9caabe",
   "metadata": {
    "execution": {
     "iopub.execute_input": "2024-09-12T15:05:05.136268Z",
     "iopub.status.busy": "2024-09-12T15:05:05.134527Z",
     "iopub.status.idle": "2024-09-12T15:05:05.163482Z",
     "shell.execute_reply": "2024-09-12T15:05:05.162309Z"
    },
    "papermill": {
     "duration": 0.043361,
     "end_time": "2024-09-12T15:05:05.166307",
     "exception": false,
     "start_time": "2024-09-12T15:05:05.122946",
     "status": "completed"
    },
    "tags": []
   },
   "outputs": [],
   "source": [
    "train = pd.read_csv('/kaggle/input/titanic/train.csv')\n",
    "test = pd.read_csv('/kaggle/input/titanic/test.csv')\n",
    "combine = [train, test]"
   ]
  },
  {
   "cell_type": "code",
   "execution_count": 3,
   "id": "1cda780d",
   "metadata": {
    "execution": {
     "iopub.execute_input": "2024-09-12T15:05:05.183972Z",
     "iopub.status.busy": "2024-09-12T15:05:05.183249Z",
     "iopub.status.idle": "2024-09-12T15:05:05.215341Z",
     "shell.execute_reply": "2024-09-12T15:05:05.213640Z"
    },
    "papermill": {
     "duration": 0.043727,
     "end_time": "2024-09-12T15:05:05.217837",
     "exception": false,
     "start_time": "2024-09-12T15:05:05.174110",
     "status": "completed"
    },
    "tags": []
   },
   "outputs": [
    {
     "name": "stdout",
     "output_type": "stream",
     "text": [
      "<class 'pandas.core.frame.DataFrame'>\n",
      "RangeIndex: 891 entries, 0 to 890\n",
      "Data columns (total 12 columns):\n",
      " #   Column       Non-Null Count  Dtype  \n",
      "---  ------       --------------  -----  \n",
      " 0   PassengerId  891 non-null    int64  \n",
      " 1   Survived     891 non-null    int64  \n",
      " 2   Pclass       891 non-null    int64  \n",
      " 3   Name         891 non-null    object \n",
      " 4   Sex          891 non-null    object \n",
      " 5   Age          714 non-null    float64\n",
      " 6   SibSp        891 non-null    int64  \n",
      " 7   Parch        891 non-null    int64  \n",
      " 8   Ticket       891 non-null    object \n",
      " 9   Fare         891 non-null    float64\n",
      " 10  Cabin        204 non-null    object \n",
      " 11  Embarked     889 non-null    object \n",
      "dtypes: float64(2), int64(5), object(5)\n",
      "memory usage: 83.7+ KB\n"
     ]
    }
   ],
   "source": [
    "train.info()"
   ]
  },
  {
   "cell_type": "code",
   "execution_count": 4,
   "id": "5105a158",
   "metadata": {
    "execution": {
     "iopub.execute_input": "2024-09-12T15:05:05.234957Z",
     "iopub.status.busy": "2024-09-12T15:05:05.234050Z",
     "iopub.status.idle": "2024-09-12T15:05:05.246193Z",
     "shell.execute_reply": "2024-09-12T15:05:05.245038Z"
    },
    "papermill": {
     "duration": 0.023181,
     "end_time": "2024-09-12T15:05:05.248587",
     "exception": false,
     "start_time": "2024-09-12T15:05:05.225406",
     "status": "completed"
    },
    "tags": []
   },
   "outputs": [
    {
     "name": "stdout",
     "output_type": "stream",
     "text": [
      "<class 'pandas.core.frame.DataFrame'>\n",
      "RangeIndex: 418 entries, 0 to 417\n",
      "Data columns (total 11 columns):\n",
      " #   Column       Non-Null Count  Dtype  \n",
      "---  ------       --------------  -----  \n",
      " 0   PassengerId  418 non-null    int64  \n",
      " 1   Pclass       418 non-null    int64  \n",
      " 2   Name         418 non-null    object \n",
      " 3   Sex          418 non-null    object \n",
      " 4   Age          332 non-null    float64\n",
      " 5   SibSp        418 non-null    int64  \n",
      " 6   Parch        418 non-null    int64  \n",
      " 7   Ticket       418 non-null    object \n",
      " 8   Fare         417 non-null    float64\n",
      " 9   Cabin        91 non-null     object \n",
      " 10  Embarked     418 non-null    object \n",
      "dtypes: float64(2), int64(4), object(5)\n",
      "memory usage: 36.0+ KB\n"
     ]
    }
   ],
   "source": [
    "test.info()"
   ]
  },
  {
   "cell_type": "code",
   "execution_count": 5,
   "id": "ebbda31f",
   "metadata": {
    "execution": {
     "iopub.execute_input": "2024-09-12T15:05:05.265993Z",
     "iopub.status.busy": "2024-09-12T15:05:05.265524Z",
     "iopub.status.idle": "2024-09-12T15:05:05.308379Z",
     "shell.execute_reply": "2024-09-12T15:05:05.307324Z"
    },
    "papermill": {
     "duration": 0.053802,
     "end_time": "2024-09-12T15:05:05.310668",
     "exception": false,
     "start_time": "2024-09-12T15:05:05.256866",
     "status": "completed"
    },
    "tags": []
   },
   "outputs": [
    {
     "data": {
      "text/html": [
       "<div>\n",
       "<style scoped>\n",
       "    .dataframe tbody tr th:only-of-type {\n",
       "        vertical-align: middle;\n",
       "    }\n",
       "\n",
       "    .dataframe tbody tr th {\n",
       "        vertical-align: top;\n",
       "    }\n",
       "\n",
       "    .dataframe thead th {\n",
       "        text-align: right;\n",
       "    }\n",
       "</style>\n",
       "<table border=\"1\" class=\"dataframe\">\n",
       "  <thead>\n",
       "    <tr style=\"text-align: right;\">\n",
       "      <th></th>\n",
       "      <th>PassengerId</th>\n",
       "      <th>Survived</th>\n",
       "      <th>Pclass</th>\n",
       "      <th>Age</th>\n",
       "      <th>SibSp</th>\n",
       "      <th>Parch</th>\n",
       "      <th>Fare</th>\n",
       "    </tr>\n",
       "  </thead>\n",
       "  <tbody>\n",
       "    <tr>\n",
       "      <th>count</th>\n",
       "      <td>891.000000</td>\n",
       "      <td>891.000000</td>\n",
       "      <td>891.000000</td>\n",
       "      <td>714.000000</td>\n",
       "      <td>891.000000</td>\n",
       "      <td>891.000000</td>\n",
       "      <td>891.000000</td>\n",
       "    </tr>\n",
       "    <tr>\n",
       "      <th>mean</th>\n",
       "      <td>446.000000</td>\n",
       "      <td>0.383838</td>\n",
       "      <td>2.308642</td>\n",
       "      <td>29.699118</td>\n",
       "      <td>0.523008</td>\n",
       "      <td>0.381594</td>\n",
       "      <td>32.204208</td>\n",
       "    </tr>\n",
       "    <tr>\n",
       "      <th>std</th>\n",
       "      <td>257.353842</td>\n",
       "      <td>0.486592</td>\n",
       "      <td>0.836071</td>\n",
       "      <td>14.526497</td>\n",
       "      <td>1.102743</td>\n",
       "      <td>0.806057</td>\n",
       "      <td>49.693429</td>\n",
       "    </tr>\n",
       "    <tr>\n",
       "      <th>min</th>\n",
       "      <td>1.000000</td>\n",
       "      <td>0.000000</td>\n",
       "      <td>1.000000</td>\n",
       "      <td>0.420000</td>\n",
       "      <td>0.000000</td>\n",
       "      <td>0.000000</td>\n",
       "      <td>0.000000</td>\n",
       "    </tr>\n",
       "    <tr>\n",
       "      <th>25%</th>\n",
       "      <td>223.500000</td>\n",
       "      <td>0.000000</td>\n",
       "      <td>2.000000</td>\n",
       "      <td>20.125000</td>\n",
       "      <td>0.000000</td>\n",
       "      <td>0.000000</td>\n",
       "      <td>7.910400</td>\n",
       "    </tr>\n",
       "    <tr>\n",
       "      <th>50%</th>\n",
       "      <td>446.000000</td>\n",
       "      <td>0.000000</td>\n",
       "      <td>3.000000</td>\n",
       "      <td>28.000000</td>\n",
       "      <td>0.000000</td>\n",
       "      <td>0.000000</td>\n",
       "      <td>14.454200</td>\n",
       "    </tr>\n",
       "    <tr>\n",
       "      <th>75%</th>\n",
       "      <td>668.500000</td>\n",
       "      <td>1.000000</td>\n",
       "      <td>3.000000</td>\n",
       "      <td>38.000000</td>\n",
       "      <td>1.000000</td>\n",
       "      <td>0.000000</td>\n",
       "      <td>31.000000</td>\n",
       "    </tr>\n",
       "    <tr>\n",
       "      <th>max</th>\n",
       "      <td>891.000000</td>\n",
       "      <td>1.000000</td>\n",
       "      <td>3.000000</td>\n",
       "      <td>80.000000</td>\n",
       "      <td>8.000000</td>\n",
       "      <td>6.000000</td>\n",
       "      <td>512.329200</td>\n",
       "    </tr>\n",
       "  </tbody>\n",
       "</table>\n",
       "</div>"
      ],
      "text/plain": [
       "       PassengerId    Survived      Pclass         Age       SibSp  \\\n",
       "count   891.000000  891.000000  891.000000  714.000000  891.000000   \n",
       "mean    446.000000    0.383838    2.308642   29.699118    0.523008   \n",
       "std     257.353842    0.486592    0.836071   14.526497    1.102743   \n",
       "min       1.000000    0.000000    1.000000    0.420000    0.000000   \n",
       "25%     223.500000    0.000000    2.000000   20.125000    0.000000   \n",
       "50%     446.000000    0.000000    3.000000   28.000000    0.000000   \n",
       "75%     668.500000    1.000000    3.000000   38.000000    1.000000   \n",
       "max     891.000000    1.000000    3.000000   80.000000    8.000000   \n",
       "\n",
       "            Parch        Fare  \n",
       "count  891.000000  891.000000  \n",
       "mean     0.381594   32.204208  \n",
       "std      0.806057   49.693429  \n",
       "min      0.000000    0.000000  \n",
       "25%      0.000000    7.910400  \n",
       "50%      0.000000   14.454200  \n",
       "75%      0.000000   31.000000  \n",
       "max      6.000000  512.329200  "
      ]
     },
     "execution_count": 5,
     "metadata": {},
     "output_type": "execute_result"
    }
   ],
   "source": [
    "train.describe()"
   ]
  },
  {
   "cell_type": "code",
   "execution_count": 6,
   "id": "80a59dd6",
   "metadata": {
    "execution": {
     "iopub.execute_input": "2024-09-12T15:05:05.327787Z",
     "iopub.status.busy": "2024-09-12T15:05:05.327355Z",
     "iopub.status.idle": "2024-09-12T15:05:05.348860Z",
     "shell.execute_reply": "2024-09-12T15:05:05.347732Z"
    },
    "papermill": {
     "duration": 0.032948,
     "end_time": "2024-09-12T15:05:05.351310",
     "exception": false,
     "start_time": "2024-09-12T15:05:05.318362",
     "status": "completed"
    },
    "tags": []
   },
   "outputs": [
    {
     "data": {
      "text/html": [
       "<div>\n",
       "<style scoped>\n",
       "    .dataframe tbody tr th:only-of-type {\n",
       "        vertical-align: middle;\n",
       "    }\n",
       "\n",
       "    .dataframe tbody tr th {\n",
       "        vertical-align: top;\n",
       "    }\n",
       "\n",
       "    .dataframe thead th {\n",
       "        text-align: right;\n",
       "    }\n",
       "</style>\n",
       "<table border=\"1\" class=\"dataframe\">\n",
       "  <thead>\n",
       "    <tr style=\"text-align: right;\">\n",
       "      <th></th>\n",
       "      <th>Age</th>\n",
       "      <th>Fare</th>\n",
       "      <th>Parch</th>\n",
       "      <th>SibSp</th>\n",
       "    </tr>\n",
       "    <tr>\n",
       "      <th>Survived</th>\n",
       "      <th></th>\n",
       "      <th></th>\n",
       "      <th></th>\n",
       "      <th></th>\n",
       "    </tr>\n",
       "  </thead>\n",
       "  <tbody>\n",
       "    <tr>\n",
       "      <th>0</th>\n",
       "      <td>30.626179</td>\n",
       "      <td>22.117887</td>\n",
       "      <td>0.329690</td>\n",
       "      <td>0.553734</td>\n",
       "    </tr>\n",
       "    <tr>\n",
       "      <th>1</th>\n",
       "      <td>28.343690</td>\n",
       "      <td>48.395408</td>\n",
       "      <td>0.464912</td>\n",
       "      <td>0.473684</td>\n",
       "    </tr>\n",
       "  </tbody>\n",
       "</table>\n",
       "</div>"
      ],
      "text/plain": [
       "                Age       Fare     Parch     SibSp\n",
       "Survived                                          \n",
       "0         30.626179  22.117887  0.329690  0.553734\n",
       "1         28.343690  48.395408  0.464912  0.473684"
      ]
     },
     "execution_count": 6,
     "metadata": {},
     "output_type": "execute_result"
    }
   ],
   "source": [
    "pd.pivot_table(train, index = 'Survived', values = ['Age','SibSp','Parch','Fare'])"
   ]
  },
  {
   "cell_type": "code",
   "execution_count": 7,
   "id": "5c114c45",
   "metadata": {
    "execution": {
     "iopub.execute_input": "2024-09-12T15:05:05.370913Z",
     "iopub.status.busy": "2024-09-12T15:05:05.370463Z",
     "iopub.status.idle": "2024-09-12T15:05:05.379834Z",
     "shell.execute_reply": "2024-09-12T15:05:05.378676Z"
    },
    "papermill": {
     "duration": 0.021701,
     "end_time": "2024-09-12T15:05:05.382035",
     "exception": false,
     "start_time": "2024-09-12T15:05:05.360334",
     "status": "completed"
    },
    "tags": []
   },
   "outputs": [],
   "source": [
    "for dataset in combine:\n",
    "    dataset.drop(columns=['Name', 'Ticket', 'Cabin'], axis=1, inplace=True)"
   ]
  },
  {
   "cell_type": "code",
   "execution_count": 8,
   "id": "49f0f0a1",
   "metadata": {
    "execution": {
     "iopub.execute_input": "2024-09-12T15:05:05.400086Z",
     "iopub.status.busy": "2024-09-12T15:05:05.398927Z",
     "iopub.status.idle": "2024-09-12T15:05:06.784924Z",
     "shell.execute_reply": "2024-09-12T15:05:06.783737Z"
    },
    "papermill": {
     "duration": 1.397737,
     "end_time": "2024-09-12T15:05:06.787595",
     "exception": false,
     "start_time": "2024-09-12T15:05:05.389858",
     "status": "completed"
    },
    "tags": []
   },
   "outputs": [
    {
     "data": {
      "image/png": "[encoded data removed]",
      "text/plain": [
       "<Figure size 800x600 with 1 Axes>"
      ]
     },
     "metadata": {},
     "output_type": "display_data"
    },
    {
     "data": {
      "image/png": "[encoded data removed]",
      "text/plain": [
       "<Figure size 800x600 with 1 Axes>"
      ]
     },
     "metadata": {},
     "output_type": "display_data"
    },
    {
     "data": {
      "image/png": "[encoded data removed]",
      "text/plain": [
       "<Figure size 800x600 with 1 Axes>"
      ]
     },
     "metadata": {},
     "output_type": "display_data"
    },
    {
     "data": {
      "image/png": "[encoded data removed]",
      "text/plain": [
       "<Figure size 800x600 with 1 Axes>"
      ]
     },
     "metadata": {},
     "output_type": "display_data"
    },
    {
     "data": {
      "image/png": "[encoded data removed]",
      "text/plain": [
       "<Figure size 800x600 with 1 Axes>"
      ]
     },
     "metadata": {},
     "output_type": "display_data"
    }
   ],
   "source": [
    "columns = ['Pclass', 'SibSp', 'Parch', 'Sex', 'Embarked']\n",
    "for col in columns:\n",
    "    plt.figure(figsize=(8, 6))\n",
    "    sb.countplot(data=train, x=col, hue='Survived')\n",
    "    plt.title(f'Countplot of {col} by Survival')\n",
    "    plt.show()"
   ]
  },
  {
   "cell_type": "code",
   "execution_count": 9,
   "id": "cf32fb13",
   "metadata": {
    "execution": {
     "iopub.execute_input": "2024-09-12T15:05:06.809674Z",
     "iopub.status.busy": "2024-09-12T15:05:06.809254Z",
     "iopub.status.idle": "2024-09-12T15:05:06.818892Z",
     "shell.execute_reply": "2024-09-12T15:05:06.817784Z"
    },
    "papermill": {
     "duration": 0.02343,
     "end_time": "2024-09-12T15:05:06.821126",
     "exception": false,
     "start_time": "2024-09-12T15:05:06.797696",
     "status": "completed"
    },
    "tags": []
   },
   "outputs": [],
   "source": [
    "pclass_mapping = {1: 0, 2: 1, 3: 2}\n",
    "\n",
    "# Apply the mapping to the Pclass column\n",
    "for dataset in combine:\n",
    "    dataset['Pclass'] = dataset['Pclass'].map(pclass_mapping)\n",
    "    dataset['Pclass'] = dataset['Pclass'].astype('object')"
   ]
  },
  {
   "cell_type": "code",
   "execution_count": 10,
   "id": "dba1916e",
   "metadata": {
    "execution": {
     "iopub.execute_input": "2024-09-12T15:05:06.842909Z",
     "iopub.status.busy": "2024-09-12T15:05:06.842439Z",
     "iopub.status.idle": "2024-09-12T15:05:06.858121Z",
     "shell.execute_reply": "2024-09-12T15:05:06.855862Z"
    },
    "papermill": {
     "duration": 0.029854,
     "end_time": "2024-09-12T15:05:06.860720",
     "exception": false,
     "start_time": "2024-09-12T15:05:06.830866",
     "status": "completed"
    },
    "tags": []
   },
   "outputs": [
    {
     "data": {
      "text/plain": [
       "Embarked\n",
       "C    55.357143\n",
       "Q    38.961039\n",
       "S    33.695652\n",
       "dtype: float64"
      ]
     },
     "execution_count": 10,
     "metadata": {},
     "output_type": "execute_result"
    }
   ],
   "source": [
    "(train[train['Survived'] == 1].groupby('Embarked').size() * 100 / train.groupby('Embarked').size()).sort_values(ascending=False)"
   ]
  },
  {
   "cell_type": "code",
   "execution_count": 11,
   "id": "b05aee45",
   "metadata": {
    "execution": {
     "iopub.execute_input": "2024-09-12T15:05:06.883404Z",
     "iopub.status.busy": "2024-09-12T15:05:06.882957Z",
     "iopub.status.idle": "2024-09-12T15:05:06.890999Z",
     "shell.execute_reply": "2024-09-12T15:05:06.889803Z"
    },
    "papermill": {
     "duration": 0.022425,
     "end_time": "2024-09-12T15:05:06.893324",
     "exception": false,
     "start_time": "2024-09-12T15:05:06.870899",
     "status": "completed"
    },
    "tags": []
   },
   "outputs": [
    {
     "data": {
      "text/plain": [
       "array(['male', 'female'], dtype=object)"
      ]
     },
     "execution_count": 11,
     "metadata": {},
     "output_type": "execute_result"
    }
   ],
   "source": [
    "train['Sex'].unique()"
   ]
  },
  {
   "cell_type": "code",
   "execution_count": 12,
   "id": "74bc2bf4",
   "metadata": {
    "execution": {
     "iopub.execute_input": "2024-09-12T15:05:06.915918Z",
     "iopub.status.busy": "2024-09-12T15:05:06.915479Z",
     "iopub.status.idle": "2024-09-12T15:05:06.923882Z",
     "shell.execute_reply": "2024-09-12T15:05:06.922822Z"
    },
    "papermill": {
     "duration": 0.021828,
     "end_time": "2024-09-12T15:05:06.926236",
     "exception": false,
     "start_time": "2024-09-12T15:05:06.904408",
     "status": "completed"
    },
    "tags": []
   },
   "outputs": [],
   "source": [
    "sex_mapping = {'female': 0, 'male': 1}\n",
    "for dataset in combine:\n",
    "    dataset['Sex'] = dataset['Sex'].map(sex_mapping)\n",
    "    dataset['Sex'] = dataset['Sex'].astype('object')"
   ]
  },
  {
   "cell_type": "code",
   "execution_count": 13,
   "id": "d0a19163",
   "metadata": {
    "execution": {
     "iopub.execute_input": "2024-09-12T15:05:06.948207Z",
     "iopub.status.busy": "2024-09-12T15:05:06.947755Z",
     "iopub.status.idle": "2024-09-12T15:05:06.959431Z",
     "shell.execute_reply": "2024-09-12T15:05:06.957824Z"
    },
    "papermill": {
     "duration": 0.025585,
     "end_time": "2024-09-12T15:05:06.962159",
     "exception": false,
     "start_time": "2024-09-12T15:05:06.936574",
     "status": "completed"
    },
    "tags": []
   },
   "outputs": [],
   "source": [
    "for dataset in combine:\n",
    "    embarked_dummies = pd.get_dummies(dataset['Embarked'], prefix='Embarked')\n",
    "    dataset = dataset.drop('Embarked', axis=1)\n",
    "    dataset = pd.concat([dataset, embarked_dummies], axis=1)"
   ]
  },
  {
   "cell_type": "code",
   "execution_count": 14,
   "id": "8535c659",
   "metadata": {
    "execution": {
     "iopub.execute_input": "2024-09-12T15:05:06.984241Z",
     "iopub.status.busy": "2024-09-12T15:05:06.983828Z",
     "iopub.status.idle": "2024-09-12T15:05:06.991996Z",
     "shell.execute_reply": "2024-09-12T15:05:06.991007Z"
    },
    "papermill": {
     "duration": 0.022065,
     "end_time": "2024-09-12T15:05:06.994171",
     "exception": false,
     "start_time": "2024-09-12T15:05:06.972106",
     "status": "completed"
    },
    "tags": []
   },
   "outputs": [],
   "source": [
    "train.loc[:, 'Age'] = train['Age'].fillna(train['Age'].mean())\n",
    "test.loc[:, 'Age'] = test['Age'].fillna(train['Age'].mean())"
   ]
  },
  {
   "cell_type": "code",
   "execution_count": 15,
   "id": "7be67671",
   "metadata": {
    "execution": {
     "iopub.execute_input": "2024-09-12T15:05:07.016746Z",
     "iopub.status.busy": "2024-09-12T15:05:07.015748Z",
     "iopub.status.idle": "2024-09-12T15:05:07.023727Z",
     "shell.execute_reply": "2024-09-12T15:05:07.022502Z"
    },
    "papermill": {
     "duration": 0.02166,
     "end_time": "2024-09-12T15:05:07.025889",
     "exception": false,
     "start_time": "2024-09-12T15:05:07.004229",
     "status": "completed"
    },
    "tags": []
   },
   "outputs": [],
   "source": [
    "train.loc[:, 'Embarked'] = train['Embarked'].fillna(train['Embarked'].mode()[0])\n",
    "test.loc[:, 'Fare'] = test['Fare'].fillna(train['Fare'].mean())"
   ]
  },
  {
   "cell_type": "code",
   "execution_count": 16,
   "id": "e8d820e1",
   "metadata": {
    "execution": {
     "iopub.execute_input": "2024-09-12T15:05:07.047675Z",
     "iopub.status.busy": "2024-09-12T15:05:07.047263Z",
     "iopub.status.idle": "2024-09-12T15:05:07.222690Z",
     "shell.execute_reply": "2024-09-12T15:05:07.221382Z"
    },
    "papermill": {
     "duration": 0.189639,
     "end_time": "2024-09-12T15:05:07.225609",
     "exception": false,
     "start_time": "2024-09-12T15:05:07.035970",
     "status": "completed"
    },
    "tags": []
   },
   "outputs": [],
   "source": [
    "from sklearn.preprocessing import OneHotEncoder\n",
    "encoder = OneHotEncoder(sparse_output=False)\n",
    "\n",
    "encoded_train_col = encoder.fit_transform(train[['Embarked']])\n",
    "encoded_train_df = pd.DataFrame(encoded_train_col, columns=encoder.get_feature_names_out(['Embarked']))\n",
    "\n",
    "encoded_test_col = encoder.transform(test[['Embarked']])\n",
    "encoded_test_df = pd.DataFrame(encoded_test_col, columns=encoder.get_feature_names_out(['Embarked']))\n",
    "\n",
    "train = train.drop('Embarked', axis=1)\n",
    "test = test.drop('Embarked', axis=1)\n",
    "\n",
    "train = pd.concat([train.reset_index(drop=True), encoded_train_df], axis=1)\n",
    "test = pd.concat([test.reset_index(drop=True), encoded_test_df], axis=1)"
   ]
  },
  {
   "cell_type": "code",
   "execution_count": 17,
   "id": "80064c8c",
   "metadata": {
    "execution": {
     "iopub.execute_input": "2024-09-12T15:05:07.247469Z",
     "iopub.status.busy": "2024-09-12T15:05:07.246456Z",
     "iopub.status.idle": "2024-09-12T15:05:07.253880Z",
     "shell.execute_reply": "2024-09-12T15:05:07.252546Z"
    },
    "papermill": {
     "duration": 0.020766,
     "end_time": "2024-09-12T15:05:07.256157",
     "exception": false,
     "start_time": "2024-09-12T15:05:07.235391",
     "status": "completed"
    },
    "tags": []
   },
   "outputs": [
    {
     "name": "stdout",
     "output_type": "stream",
     "text": [
      "['Age', 'SibSp', 'Parch', 'Fare', 'Embarked_C', 'Embarked_Q', 'Embarked_S']\n"
     ]
    }
   ],
   "source": [
    "numeric_columns = list(train.select_dtypes(include=np.number).columns)\n",
    "numeric_columns = [col for col in numeric_columns if col not in ['Survived', 'PassengerId']]\n",
    "print(numeric_columns)"
   ]
  },
  {
   "cell_type": "code",
   "execution_count": 18,
   "id": "fca92512",
   "metadata": {
    "execution": {
     "iopub.execute_input": "2024-09-12T15:05:07.278568Z",
     "iopub.status.busy": "2024-09-12T15:05:07.277621Z",
     "iopub.status.idle": "2024-09-12T15:05:07.293385Z",
     "shell.execute_reply": "2024-09-12T15:05:07.292239Z"
    },
    "papermill": {
     "duration": 0.029481,
     "end_time": "2024-09-12T15:05:07.295941",
     "exception": false,
     "start_time": "2024-09-12T15:05:07.266460",
     "status": "completed"
    },
    "tags": []
   },
   "outputs": [],
   "source": [
    "from sklearn.preprocessing import StandardScaler\n",
    "scaler = StandardScaler()\n",
    "y_train = train['Survived']\n",
    "train.drop(['Survived'], axis=1, inplace=True)\n",
    "train[numeric_columns] = scaler.fit_transform(train[numeric_columns])\n",
    "test[numeric_columns] = scaler.transform(test[numeric_columns])"
   ]
  },
  {
   "cell_type": "code",
   "execution_count": 19,
   "id": "f263fa21",
   "metadata": {
    "execution": {
     "iopub.execute_input": "2024-09-12T15:05:07.319118Z",
     "iopub.status.busy": "2024-09-12T15:05:07.318029Z",
     "iopub.status.idle": "2024-09-12T15:05:07.326133Z",
     "shell.execute_reply": "2024-09-12T15:05:07.325005Z"
    },
    "papermill": {
     "duration": 0.022727,
     "end_time": "2024-09-12T15:05:07.328625",
     "exception": false,
     "start_time": "2024-09-12T15:05:07.305898",
     "status": "completed"
    },
    "tags": []
   },
   "outputs": [],
   "source": [
    "train.drop(columns='PassengerId', axis=1, inplace=True)\n",
    "PassengerId_test = test['PassengerId']\n",
    "test.drop(columns='PassengerId', axis=1, inplace=True)"
   ]
  },
  {
   "cell_type": "code",
   "execution_count": 20,
   "id": "7238ecb6",
   "metadata": {
    "execution": {
     "iopub.execute_input": "2024-09-12T15:05:07.350635Z",
     "iopub.status.busy": "2024-09-12T15:05:07.350228Z",
     "iopub.status.idle": "2024-09-12T15:05:08.227412Z",
     "shell.execute_reply": "2024-09-12T15:05:08.226119Z"
    },
    "papermill": {
     "duration": 0.890921,
     "end_time": "2024-09-12T15:05:08.229811",
     "exception": false,
     "start_time": "2024-09-12T15:05:07.338890",
     "status": "completed"
    },
    "tags": []
   },
   "outputs": [
    {
     "name": "stdout",
     "output_type": "stream",
     "text": [
      "Naive Bayes Accuracy: 0.78\n",
      "Random Forest Accuracy: 0.83\n",
      "AdaBoost Accuracy: 0.82\n"
     ]
    }
   ],
   "source": [
    "from sklearn.model_selection import train_test_split\n",
    "from sklearn.naive_bayes import GaussianNB\n",
    "from sklearn.ensemble import RandomForestClassifier, AdaBoostClassifier\n",
    "from sklearn.neural_network import MLPClassifier\n",
    "from sklearn.metrics import accuracy_score\n",
    "\n",
    "# Split the data into training and testing sets\n",
    "X_train, X_CV, y_train, y_CV = train_test_split(train, y_train, test_size=0.2, random_state=42)\n",
    "\n",
    "# Naive Bayes\n",
    "nb_model = GaussianNB()\n",
    "nb_model.fit(X_train, y_train)\n",
    "nb_predictions = nb_model.predict(X_CV)\n",
    "nb_accuracy = accuracy_score(y_CV, nb_predictions)\n",
    "print(f'Naive Bayes Accuracy: {nb_accuracy:.2f}')\n",
    "\n",
    "# Random Forest\n",
    "rf_model = RandomForestClassifier(n_estimators=100, random_state=42)\n",
    "rf_model.fit(X_train, y_train)\n",
    "rf_predictions = rf_model.predict(X_CV)\n",
    "rf_accuracy = accuracy_score(y_CV, rf_predictions)\n",
    "print(f'Random Forest Accuracy: {rf_accuracy:.2f}')\n",
    "\n",
    "# AdaBoost\n",
    "ab_model = AdaBoostClassifier(n_estimators=100, random_state=42)\n",
    "ab_model.fit(X_train, y_train)\n",
    "ab_predictions = ab_model.predict(X_CV)\n",
    "ab_accuracy = accuracy_score(y_CV, ab_predictions)\n",
    "print(f'AdaBoost Accuracy: {ab_accuracy:.2f}')"
   ]
  },
  {
   "cell_type": "code",
   "execution_count": 21,
   "id": "44fe5de2",
   "metadata": {
    "execution": {
     "iopub.execute_input": "2024-09-12T15:05:08.252732Z",
     "iopub.status.busy": "2024-09-12T15:05:08.252273Z",
     "iopub.status.idle": "2024-09-12T15:05:08.259056Z",
     "shell.execute_reply": "2024-09-12T15:05:08.257854Z"
    },
    "papermill": {
     "duration": 0.021388,
     "end_time": "2024-09-12T15:05:08.261682",
     "exception": false,
     "start_time": "2024-09-12T15:05:08.240294",
     "status": "completed"
    },
    "tags": []
   },
   "outputs": [
    {
     "name": "stdout",
     "output_type": "stream",
     "text": [
      "train shape: (891, 9)\n",
      "y_train shape: (712,)\n"
     ]
    }
   ],
   "source": [
    "print(f'train shape: {train.shape}')\n",
    "print(f'y_train shape: {y_train.shape}')\n"
   ]
  },
  {
   "cell_type": "code",
   "execution_count": 22,
   "id": "338702ef",
   "metadata": {
    "execution": {
     "iopub.execute_input": "2024-09-12T15:05:08.283953Z",
     "iopub.status.busy": "2024-09-12T15:05:08.283523Z",
     "iopub.status.idle": "2024-09-12T15:05:08.296019Z",
     "shell.execute_reply": "2024-09-12T15:05:08.294849Z"
    },
    "papermill": {
     "duration": 0.026378,
     "end_time": "2024-09-12T15:05:08.298376",
     "exception": false,
     "start_time": "2024-09-12T15:05:08.271998",
     "status": "completed"
    },
    "tags": []
   },
   "outputs": [
    {
     "data": {
      "text/plain": [
       "<bound method DataFrame.info of     Pclass Sex       Age     SibSp     Parch      Fare  Embarked_C  \\\n",
       "0        2   1 -0.592481  0.432793 -0.473674 -0.502445   -0.482043   \n",
       "1        0   0  0.638789  0.432793 -0.473674  0.786845    2.074505   \n",
       "2        2   0 -0.284663 -0.474545 -0.473674 -0.488854   -0.482043   \n",
       "3        0   0  0.407926  0.432793 -0.473674  0.420730   -0.482043   \n",
       "4        2   1  0.407926 -0.474545 -0.473674 -0.486337   -0.482043   \n",
       "..     ...  ..       ...       ...       ...       ...         ...   \n",
       "886      1   1 -0.207709 -0.474545 -0.473674 -0.386671   -0.482043   \n",
       "887      0   0 -0.823344 -0.474545 -0.473674 -0.044381   -0.482043   \n",
       "888      2   0  0.000000  0.432793  2.008933 -0.176263   -0.482043   \n",
       "889      0   1 -0.284663 -0.474545 -0.473674 -0.044381    2.074505   \n",
       "890      2   1  0.177063 -0.474545 -0.473674 -0.492378   -0.482043   \n",
       "\n",
       "     Embarked_Q  Embarked_S  \n",
       "0     -0.307562    0.615838  \n",
       "1     -0.307562   -1.623803  \n",
       "2     -0.307562    0.615838  \n",
       "3     -0.307562    0.615838  \n",
       "4     -0.307562    0.615838  \n",
       "..          ...         ...  \n",
       "886   -0.307562    0.615838  \n",
       "887   -0.307562    0.615838  \n",
       "888   -0.307562    0.615838  \n",
       "889   -0.307562   -1.623803  \n",
       "890    3.251373   -1.623803  \n",
       "\n",
       "[891 rows x 9 columns]>"
      ]
     },
     "execution_count": 22,
     "metadata": {},
     "output_type": "execute_result"
    }
   ],
   "source": [
    "train.info\n"
   ]
  },
  {
   "cell_type": "code",
   "execution_count": 23,
   "id": "d233540b",
   "metadata": {
    "execution": {
     "iopub.execute_input": "2024-09-12T15:05:08.321347Z",
     "iopub.status.busy": "2024-09-12T15:05:08.320594Z",
     "iopub.status.idle": "2024-09-12T15:05:08.329059Z",
     "shell.execute_reply": "2024-09-12T15:05:08.328002Z"
    },
    "papermill": {
     "duration": 0.022562,
     "end_time": "2024-09-12T15:05:08.331311",
     "exception": false,
     "start_time": "2024-09-12T15:05:08.308749",
     "status": "completed"
    },
    "tags": []
   },
   "outputs": [
    {
     "data": {
      "text/plain": [
       "331    0\n",
       "733    0\n",
       "382    0\n",
       "704    0\n",
       "813    0\n",
       "      ..\n",
       "106    1\n",
       "270    0\n",
       "860    0\n",
       "435    1\n",
       "102    0\n",
       "Name: Survived, Length: 712, dtype: int64"
      ]
     },
     "execution_count": 23,
     "metadata": {},
     "output_type": "execute_result"
    }
   ],
   "source": [
    "y_train"
   ]
  },
  {
   "cell_type": "code",
   "execution_count": 24,
   "id": "aa33f78b",
   "metadata": {
    "execution": {
     "iopub.execute_input": "2024-09-12T15:05:08.353823Z",
     "iopub.status.busy": "2024-09-12T15:05:08.353366Z",
     "iopub.status.idle": "2024-09-12T15:05:09.751121Z",
     "shell.execute_reply": "2024-09-12T15:05:09.748972Z"
    },
    "papermill": {
     "duration": 1.412621,
     "end_time": "2024-09-12T15:05:09.754363",
     "exception": false,
     "start_time": "2024-09-12T15:05:08.341742",
     "status": "completed"
    },
    "tags": []
   },
   "outputs": [
    {
     "name": "stdout",
     "output_type": "stream",
     "text": [
      "Fitting 5 folds for each of 12 candidates, totalling 60 fits\n",
      "Best parameters for SVM: {'C': 10, 'gamma': 'scale', 'kernel': 'rbf'}\n",
      "Best accuracy for SVM: 0.82\n"
     ]
    }
   ],
   "source": [
    "from sklearn.model_selection import GridSearchCV\n",
    "from sklearn.svm import SVC\n",
    "\n",
    "svm_model = SVC(random_state=42)\n",
    "param_grid = {\n",
    "    'C': [0.1, 1, 10],\n",
    "    'kernel': ['linear', 'rbf'],\n",
    "    'gamma': ['scale', 'auto']\n",
    "}\n",
    "\n",
    "grid_search_svm = GridSearchCV(estimator=svm_model, param_grid=param_grid, scoring='accuracy', cv=5, verbose=1)\n",
    "grid_search_svm.fit(X_train, y_train)\n",
    "print(f'Best parameters for SVM: {grid_search_svm.best_params_}')\n",
    "print(f'Best accuracy for SVM: {grid_search_svm.best_score_:.2f}')\n",
    "\n"
   ]
  },
  {
   "cell_type": "code",
   "execution_count": 25,
   "id": "4552f978",
   "metadata": {
    "execution": {
     "iopub.execute_input": "2024-09-12T15:05:09.778290Z",
     "iopub.status.busy": "2024-09-12T15:05:09.777829Z",
     "iopub.status.idle": "2024-09-12T15:05:11.087515Z",
     "shell.execute_reply": "2024-09-12T15:05:11.085928Z"
    },
    "papermill": {
     "duration": 1.324701,
     "end_time": "2024-09-12T15:05:11.089997",
     "exception": false,
     "start_time": "2024-09-12T15:05:09.765296",
     "status": "completed"
    },
    "tags": []
   },
   "outputs": [
    {
     "name": "stdout",
     "output_type": "stream",
     "text": [
      "Fitting 5 folds for each of 36 candidates, totalling 180 fits\n",
      "Best parameters for Decision Trees: {'max_depth': None, 'min_samples_leaf': 10, 'min_samples_split': 2}\n",
      "Best accuracy for Decision Trees: 0.81\n"
     ]
    }
   ],
   "source": [
    "from sklearn.tree import DecisionTreeClassifier\n",
    "\n",
    "dt_model = DecisionTreeClassifier(random_state=42)\n",
    "param_grid = {\n",
    "    'max_depth': [None, 10, 20, 30],\n",
    "    'min_samples_split': [2, 10, 20],\n",
    "    'min_samples_leaf': [1, 5, 10]\n",
    "}\n",
    "\n",
    "grid_search_dt = GridSearchCV(estimator=dt_model, param_grid=param_grid, scoring='accuracy', cv=5, verbose=1)\n",
    "grid_search_dt.fit(X_train, y_train)\n",
    "print(f'Best parameters for Decision Trees: {grid_search_dt.best_params_}')\n",
    "print(f'Best accuracy for Decision Trees: {grid_search_dt.best_score_:.2f}')\n"
   ]
  },
  {
   "cell_type": "code",
   "execution_count": 26,
   "id": "8844be19",
   "metadata": {
    "execution": {
     "iopub.execute_input": "2024-09-12T15:05:11.114114Z",
     "iopub.status.busy": "2024-09-12T15:05:11.113676Z",
     "iopub.status.idle": "2024-09-12T15:05:12.097166Z",
     "shell.execute_reply": "2024-09-12T15:05:12.095865Z"
    },
    "papermill": {
     "duration": 0.998585,
     "end_time": "2024-09-12T15:05:12.099802",
     "exception": false,
     "start_time": "2024-09-12T15:05:11.101217",
     "status": "completed"
    },
    "tags": []
   },
   "outputs": [
    {
     "name": "stdout",
     "output_type": "stream",
     "text": [
      "Fitting 5 folds for each of 16 candidates, totalling 80 fits\n",
      "Best parameters for KNN: {'metric': 'manhattan', 'n_neighbors': 7, 'weights': 'uniform'}\n",
      "Best accuracy for KNN: 0.80\n"
     ]
    }
   ],
   "source": [
    "from sklearn.neighbors import KNeighborsClassifier\n",
    "\n",
    "knn_model = KNeighborsClassifier()\n",
    "param_grid = {\n",
    "    'n_neighbors': [3, 5, 7, 9],\n",
    "    'weights': ['uniform', 'distance'],\n",
    "    'metric': ['euclidean', 'manhattan']\n",
    "}\n",
    "\n",
    "grid_search_knn = GridSearchCV(estimator=knn_model, param_grid=param_grid, scoring='accuracy', cv=5, verbose=1)\n",
    "grid_search_knn.fit(X_train, y_train)\n",
    "print(f'Best parameters for KNN: {grid_search_knn.best_params_}')\n",
    "print(f'Best accuracy for KNN: {grid_search_knn.best_score_:.2f}')"
   ]
  },
  {
   "cell_type": "code",
   "execution_count": 27,
   "id": "0cd28503",
   "metadata": {
    "execution": {
     "iopub.execute_input": "2024-09-12T15:05:12.123219Z",
     "iopub.status.busy": "2024-09-12T15:05:12.122817Z",
     "iopub.status.idle": "2024-09-12T15:05:12.404466Z",
     "shell.execute_reply": "2024-09-12T15:05:12.403167Z"
    },
    "papermill": {
     "duration": 0.296096,
     "end_time": "2024-09-12T15:05:12.406791",
     "exception": false,
     "start_time": "2024-09-12T15:05:12.110695",
     "status": "completed"
    },
    "tags": []
   },
   "outputs": [
    {
     "name": "stdout",
     "output_type": "stream",
     "text": [
      "Ensemble Accuracy: 0.84\n"
     ]
    }
   ],
   "source": [
    "from sklearn.ensemble import VotingClassifier\n",
    "\n",
    "ensemble_model = VotingClassifier(estimators=[\n",
    "\n",
    "    ('svm', grid_search_svm.best_estimator_),\n",
    "    ('rf', rf_model),\n",
    "    ('knn', grid_search_knn.best_estimator_)\n",
    "], voting='hard')\n",
    "\n",
    "ensemble_model.fit(X_train, y_train)\n",
    "ensemble_predictions = ensemble_model.predict(X_CV)\n",
    "ensemble_accuracy = accuracy_score(y_CV, ensemble_predictions)\n",
    "print(f'Ensemble Accuracy: {ensemble_accuracy:.2f}')\n"
   ]
  },
  {
   "cell_type": "code",
   "execution_count": 28,
   "id": "ea2962af",
   "metadata": {
    "execution": {
     "iopub.execute_input": "2024-09-12T15:05:12.430809Z",
     "iopub.status.busy": "2024-09-12T15:05:12.430363Z",
     "iopub.status.idle": "2024-09-12T15:05:12.468395Z",
     "shell.execute_reply": "2024-09-12T15:05:12.467315Z"
    },
    "papermill": {
     "duration": 0.053347,
     "end_time": "2024-09-12T15:05:12.471040",
     "exception": false,
     "start_time": "2024-09-12T15:05:12.417693",
     "status": "completed"
    },
    "tags": []
   },
   "outputs": [],
   "source": [
    "submission = ab_model.predict(test)"
   ]
  },
  {
   "cell_type": "code",
   "execution_count": 29,
   "id": "1990f6d4",
   "metadata": {
    "execution": {
     "iopub.execute_input": "2024-09-12T15:05:12.494834Z",
     "iopub.status.busy": "2024-09-12T15:05:12.494404Z",
     "iopub.status.idle": "2024-09-12T15:05:12.500117Z",
     "shell.execute_reply": "2024-09-12T15:05:12.498940Z"
    },
    "papermill": {
     "duration": 0.02039,
     "end_time": "2024-09-12T15:05:12.502386",
     "exception": false,
     "start_time": "2024-09-12T15:05:12.481996",
     "status": "completed"
    },
    "tags": []
   },
   "outputs": [],
   "source": [
    "submission_series = pd.Series(submission)\n",
    "submission_series.columns = ['Survived']\n",
    "submission_series = submission_series.astype(int)"
   ]
  },
  {
   "cell_type": "code",
   "execution_count": 30,
   "id": "3ed1addf",
   "metadata": {
    "execution": {
     "iopub.execute_input": "2024-09-12T15:05:12.526292Z",
     "iopub.status.busy": "2024-09-12T15:05:12.525810Z",
     "iopub.status.idle": "2024-09-12T15:05:12.537193Z",
     "shell.execute_reply": "2024-09-12T15:05:12.536022Z"
    },
    "papermill": {
     "duration": 0.025983,
     "end_time": "2024-09-12T15:05:12.539636",
     "exception": false,
     "start_time": "2024-09-12T15:05:12.513653",
     "status": "completed"
    },
    "tags": []
   },
   "outputs": [],
   "source": [
    "submission_df = pd.concat([PassengerId_test, submission_series], axis =1)\n",
    "submission_df.columns = ['PassengerId', 'Survived']\n",
    "submission_df.set_index('PassengerId', inplace=True)\n",
    "submission_df.to_csv('submission.csv')"
   ]
  }
 ],
 "metadata": {
  "kaggle": {
   "accelerator": "none",
   "dataSources": [
    {
     "databundleVersionId": 26502,
     "sourceId": 3136,
     "sourceType": "competition"
    }
   ],
   "dockerImageVersionId": 30761,
   "isGpuEnabled": false,
   "isInternetEnabled": false,
   "language": "python",
   "sourceType": "notebook"
  },
  "kernelspec": {
   "display_name": "Python 3",
   "language": "python",
   "name": "python3"
  },
  "language_info": {
   "codemirror_mode": {
    "name": "ipython",
    "version": 3
   },
   "file_extension": ".py",
   "mimetype": "text/x-python",
   "name": "python",
   "nbconvert_exporter": "python",
   "pygments_lexer": "ipython3",
   "version": "3.10.14"
  },
  "papermill": {
   "default_parameters": {},
   "duration": 28.077135,
   "end_time": "2024-09-12T15:05:14.175426",
   "environment_variables": {},
   "exception": null,
   "input_path": "__notebook__.ipynb",
   "output_path": "__notebook__.ipynb",
   "parameters": {},
   "start_time": "2024-09-12T15:04:46.098291",
   "version": "2.6.0"
  }
 },
 "nbformat": 4,
 "nbformat_minor": 5
}
